{
 "cells": [
  {
   "cell_type": "code",
   "execution_count": null,
   "metadata": {
    "collapsed": true
   },
   "outputs": [],
   "source": [
    "import numpy as np\n"
   ]
  },
  {
   "cell_type": "code",
   "execution_count": null,
   "metadata": {
    "collapsed": true
   },
   "outputs": [],
   "source": [
    "NUM = 30\n",
    "\n",
    "cluster1 = [0, 0]\n",
    "cluster2 = [0.5, 0.5]\n",
    "cluster3 = [0, 1]\n",
    "\n",
    "x1 = np.random.normal(cluster1[0], 0.2, NUM)\n",
    "y1 = np.random.normal(cluster1[1], 0.2, NUM)\n",
    "x2 = np.random.normal(cluster2[0], 0.3, NUM)\n",
    "y2 = np.random.normal(cluster2[1], 0.1, NUM)\n",
    "x3 = np.random.normal(cluster3[0], 0.15, NUM)\n",
    "y3 = np.random.normal(cluster3[1], 0.15, NUM)\n",
    "\n",
    "xx = []\n",
    "xx.extend(x1)\n",
    "xx.extend(x2)\n",
    "xx.extend(x3)\n",
    "yy = []\n",
    "yy.extend(y1)\n",
    "yy.extend(y2)\n",
    "yy.extend(y3)\n",
    "\n",
    "data = np.c_[xx, yy]\n",
    "\n",
    "np.savetxt(\"data.csv\", delimiter=\",\", fmt=\"%10.4f\")"
   ]
  }
 ],
 "metadata": {
  "anaconda-cloud": {},
  "kernelspec": {
   "display_name": "Python 3",
   "language": "python",
   "name": "python3"
  },
  "language_info": {
   "codemirror_mode": {
    "name": "ipython",
    "version": 3
   },
   "file_extension": ".py",
   "mimetype": "text/x-python",
   "name": "python",
   "nbconvert_exporter": "python",
   "pygments_lexer": "ipython3",
   "version": "3.5.2"
  }
 },
 "nbformat": 4,
 "nbformat_minor": 1
}
